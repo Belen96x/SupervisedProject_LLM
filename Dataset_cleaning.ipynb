{
  "nbformat": 4,
  "nbformat_minor": 0,
  "metadata": {
    "colab": {
      "provenance": []
    },
    "kernelspec": {
      "name": "python3",
      "display_name": "Python 3"
    },
    "language_info": {
      "name": "python"
    }
  },
  "cells": [
    {
      "cell_type": "code",
      "execution_count": null,
      "metadata": {
        "id": "DyTWgoNaApiG"
      },
      "outputs": [],
      "source": [
        "import pandas as pd\n",
        "import xml.etree.ElementTree as ET"
      ]
    },
    {
      "cell_type": "code",
      "source": [
        "\n",
        "tree = ET.parse('test.xml')\n",
        "root = tree.getroot()\n",
        "\n",
        "data = []\n",
        "\n",
        "for pair in root.findall('pair'):\n",
        "    dialog_texts = [f\"{turn.get('speaker')}: {turn.text.strip()}\" for turn in pair.findall('dialog/turn')]\n",
        "    dialog = \" \".join(dialog_texts)\n",
        "    answer = pair.find('h').text.strip()\n",
        "    data.append({'story': dialog, 'answer': answer})\n",
        "\n",
        "df = pd.DataFrame(data)\n",
        "\n",
        "df.to_csv('output.csv', index=False)\n",
        "\n",
        "print(\"CSV file has been created.\")\n",
        "\n"
      ],
      "metadata": {
        "colab": {
          "base_uri": "https://localhost:8080/"
        },
        "id": "w9Vgk7DIAy3t",
        "outputId": "f0401a1f-eaba-4c80-99f3-7c723c68809b"
      },
      "execution_count": null,
      "outputs": [
        {
          "output_type": "stream",
          "name": "stdout",
          "text": [
            "CSV file has been created.\n"
          ]
        }
      ]
    },
    {
      "cell_type": "markdown",
      "source": [
        "To clean SocialIQA"
      ],
      "metadata": {
        "id": "OwCskra5Fyqy"
      }
    },
    {
      "cell_type": "code",
      "source": [
        "import pandas as pd\n",
        "import json\n",
        "\n",
        "jsonl_path = 'dev.jsonl'\n",
        "lst_path = 'dev-labels.lst'\n",
        "\n",
        "with open(jsonl_path, 'r') as file:\n",
        "    lines = file.readlines()\n",
        "    json_data = [json.loads(line) for line in lines]\n",
        "\n",
        "\n",
        "with open(lst_path, 'r') as file:\n",
        "    answer_indices = file.readlines()\n",
        "    answer_indices = [int(index.strip()) for index in answer_indices]\n",
        "\n",
        "data = []\n",
        "for item, index in zip(json_data, answer_indices):\n",
        "    story = item['context']\n",
        "    question = item['question']\n",
        "    answers = f\"A: {item['answerA']}, B: {item['answerB']}, C: {item['answerC']}\"\n",
        "    correct_answer = index\n",
        "    data.append({'story': story, 'question': question + \" \" + answers, 'answer': correct_answer})\n",
        "\n",
        "df = pd.DataFrame(data)\n",
        "\n",
        "df.to_csv('output_socialiqa.csv', index=False)\n",
        "\n",
        "print(\"CSV file has been created.\")\n"
      ],
      "metadata": {
        "colab": {
          "base_uri": "https://localhost:8080/"
        },
        "id": "ANUy0K5TFzob",
        "outputId": "09ba1c4d-25c2-4eb1-ffb2-1ddb553831e2"
      },
      "execution_count": null,
      "outputs": [
        {
          "output_type": "stream",
          "name": "stdout",
          "text": [
            "CSV file has been created.\n"
          ]
        }
      ]
    },
    {
      "cell_type": "markdown",
      "source": [
        "COKE cleaning and pairing"
      ],
      "metadata": {
        "id": "vxKOQWLLKnP4"
      }
    },
    {
      "cell_type": "code",
      "source": [
        "import pandas as pd\n",
        "\n",
        "data = [\n",
        "    {\"story\": [\"Taylor went fishing with his father.\", \"They got up very early to go to the lake.\", \"They sat quietly all day long.\", \"Finally, they caught a fish!.\", \"It was too small and they had to toss it back.\"], \"cause_idx\": [3], \"res_idx\": 4},\n",
        "    {\"story\": [\"Charlie went to food truck event at the beach.\", \"He said they had a ton of trucks there.\", \"He tried food from a few trucks.\", \"He said the food was great.\", \"I am going to try to go next year.\"], \"cause_idx\": [3], \"res_idx\": 4},\n",
        "{\"story\": [\"Sandra went strawberry picking with her mother.\", \"They spent several hours in the sun gathering berries.\", \"At the end of the day sandra dropped her bushel of strawberries!.\", \"Luckily she was able to scoop them all up again.\", \"Sandra was glad that her hard work hadn't been wasted!.\"], \"cause_idx\": [3], \"res_idx\": 4},\n",
        "{\"story\": [\"Lewy wanted to build a snowman.\", \"He went outside and started rolling snow.\", \"Soon he had a snowman.\", \"Lewy found some green paint.\", \"Soon he had a green snowman.\"], \"cause_idx\": [2, 3], \"res_idx\": 4},\n",
        "{\"story\": [\"Nell was new in school and wanted to make friends.\", \"Nell told the class that her parents ran a candy store.\", \"On the playground, kids flocked around nell.\", \"They asked nell to bring them some candy.\", \"Nell snuck into the store and grabbed candy for her friends.\"], \"cause_idx\": [3], \"res_idx\": 4},\n",
        "{\"story\": [\"Today was sarah's birthday!.\", \"She had a big party with all of her family and friends.\", \"She had lots of presents.\", \"Her cake had pink and purple flowers on it.\", \"Sarah had a great birthday.\"], \"cause_idx\": [0, 1], \"res_idx\": 4},\n",
        "{\"story\": [\"Sally's mother woke her up for school.\", \"Sally told her that she did not feel very well.\", \"Her mother checked her temperature.\", \"Her temperature showed she had a fever.\", \"So her mother took her to the doctor for medicine.\"], \"cause_idx\": [3], \"res_idx\": 4},\n",
        "{\"story\": [\"My friend told me about a new bar in town.\", \"We drove around trying to find it and saw it was packed.\", \"We parked and went inside the bar.\", \"My friend saw a handsome man who she liked.\", \"The man walked up to my friend and gave her his number.\"], \"cause_idx\": [3], \"res_idx\": 4},\n",
        "{\"story\": [\"Kim was excited about her new shows.\", \"She decided to wear them out as soon as she could.\", \"Unfortunately it had rained recently.\", \"Kim accidentally stepped into a muddy puddle.\", \"It ruined her new shoes.\"], \"cause_idx\": [3], \"res_idx\": 4},\n",
        "{\"story\": [\"Today timmy jumped and played in the mud.\", \"The mud got all over his clothes.\", \"He went inside his home and his mom said he needed a bath.\", \"Timmy got in the tub and his mom bathed him.\", \"Timmy was finally clean.\"], \"cause_idx\": [3], \"res_idx\": 4},\n",
        "{\"story\": [\"I woke up feeling very sick.\", \"I had a fever, aches, and a runny nose.\", \"I went to the doctor to find out what was wrong.\", \"My doctor told me that i had the flu.\", \"I slept a lot for three days until i finally felt better.\"], \"cause_idx\": [1, 3], \"res_idx\": 4},\n",
        "{\"story\": [\"Jill's tomatoes kept disappearing off the plant on her deck.\", \"There'd be one ready to be picked the next day.\", \"But when she'd get up in the morning, it would be gone.\", \"One day she got up extra early.\", \"When she looked outside there was a fat squirrel eating her tomatoes.\"], \"cause_idx\": [], \"res_idx\": 4},\n",
        "{\"story\": [\"Jim gained weight after eating poorly.\", \"He tried to put a belt on but it would not fit.\", \"He took out a hole punch and punched new holes in his belt.\", \"Jim put on the new belt for a test fit.\", \"He was pleased with how the bigger belt fit.\"], \"cause_idx\": [3], \"res_idx\": 4},\n",
        "{\"story\": [\"Ed took out his airplane for fun on a cloudy day.\", \"Some of the clouds started to get dark as he flew.\", \"Eventually ed got stuck in a thunderstorm.\", \"He had to land the plane on the road down below.\", \"Many cars rushed out of the way to make room for his plane.\"], \"cause_idx\": [3], \"res_idx\": 4},\n",
        "{\"story\": [\"My girlfriend, rita, was sitting on the beach.\", \"She started getting bored, so she decided to take a swim.\", \"When she jumped in the ocean, she saw the fin of a shark.\", \"Rita quickly exited the water, and ran for the parking lot.\", \"She told me she never wanted to go to that beach again.\"], \"cause_idx\": [2], \"res_idx\": 4},\n",
        "{\"story\": [\"Ollie does not plan to go to school today.\", \"When he leaves home after breakfast, he walks towards the bus stop.\", \"He continues past the bus stop and goes to the arcade.\", \"As it turns out, the arcade isn't open at 9am.\", \"Ollie goes to school.\"], \"cause_idx\": [3], \"res_idx\": 4},\n",
        "{\"story\": [\"It started raining this morning.\", \"I spent some time making coffee and sitting down.\", \"Opening the curtains, i saw the pretty rain.\", \"It rained all morning.\", \"Now i don't need to water my garden!.\"], \"cause_idx\": [3], \"res_idx\": 4},\n",
        "{\"story\": [\"We decided to get married on the beach.\", \"Our family and friends met us there.\", \"It was a perfectly sunny summer day.\", \"Best of all, no one had to wear shoes!.\", \"We ended our day with a dip in the cool ocean.\"], \"cause_idx\": [0], \"res_idx\": 4},\n",
        "{\"story\": [\"The man filled the pitcher.\", \"He carried it to the table.\", \"He dropped the pitcher.\", \"Some of the beer fell on the ground.\", \"The man went to get a new pitcher.\"], \"cause_idx\": [2], \"res_idx\": 4},\n",
        "{\"story\": [\"Yesterday was lauren's birthday.\", \"Her mother decided to surprise her with her favorite cake.\", \"Lauren loves lemon cake.\", \"Lauren's mother even decorated the cake with candles.\", \"She loved the cake and ate 2 pieces after blowing out the candles.\"], \"cause_idx\": [1, 3], \"res_idx\": 4},\n",
        "{\"story\": [\"Tim wanted to start a band.\", \"Tim wanted to play the guitar.\", \"Tim practiced for months.\", \"Tim had gotten really good at guitar.\", \"Tim successfully started his band!.\"], \"cause_idx\": [3], \"res_idx\": 4},\n",
        "{\"story\": [\"Steph was in a pumpkin patch.\", \"She wandered around the patch checking pumpkins.\", \"She found a few that were okay, but nothing great.\", \"Suddenly, she saw a perfect pumpkin.\", \"She put it in a wheelbarrow and brought it to her car.\"], \"cause_idx\": [3], \"res_idx\": 4},\n",
        "{\"story\": [\"Joe woke up to see that his car was snowed in.\", \"Joe put on his warm cloths to go outside.\", \"Joe went outside and got his snow shovel.\", \"Joe worked for a long time shoveling the snow.\", \"Joe was proud when he saw he had cleared his car out.\"], \"cause_idx\": [3], \"res_idx\": 4},\n",
        "{\"story\": [\"Renee has a baby.\", \"One day, courtney asked to hold the baby.\", \"Courtney did not know how to hold renee's baby.\", \"Renee showed her how to hold the baby.\", \"Courtney was happy to learn how to hold a baby.\"], \"cause_idx\": [3], \"res_idx\": 4},\n",
        "{\"story\": [\"I wanted to grow fruit in my backyard.\", \"I decided to grow pears.\", \"I bought some pear tree seeds and planted them.\", \"After two years, the pear tree finally developed fruit.\", \"The pears were delicious!.\"], \"cause_idx\": [3], \"res_idx\": 4},\n",
        "{\"story\": [\"Timmy wanted to have a big thanksgiving dinner.\", \"Timmy asked his mom if the family could have a big thanksgiving dinner.\", \"Timmy's mom agreed that they could have a big thanksgiving dinner.\", \"Timmy's mom invited all of their friends and family for thanksgiving.\", \"Timmy and his family had a great thanksgiving together.\"], \"cause_idx\": [2, 3], \"res_idx\": 4},\n",
        "{\"story\": [\"Kelly and rob had a date for tonight.\", \"Rob picked her up at six.\", \"The two of them had a great time.\", \"The date went so well, they ended with a kiss.\", \"Rob and kelly agreed to see each other again.\"], \"cause_idx\": [3], \"res_idx\": 4},\n",
        "{\"story\": [\"Tina wanted a new phone.\", \"She begged her parents for one.\", \"They said no.\", \"Finally they said yes.\", \"She got a new one the next day.\"], \"cause_idx\": [3], \"res_idx\": 4},\n",
        "{\"story\": [\"Sadie was on a skiing trip with her parents.\", \"She was really having fun for the first part of the day.\", \"Soon she began to feel bitterly cold.\", \"She tried to get through it but it was too frustrating.\", \"Finally, she gave up and decided to stop skiing.\"], \"cause_idx\": [3], \"res_idx\": 4},\n",
        "{\"story\": [\"Ericka enjoyed going to restaurants, but she liked to save money too.\", \"She found a coupon for her favorite restaurant.\", \"She went there for lunch and ordered a burger.\", \"When the bill came, she was nervous about the coupon.\", \"The restaurant accepted the coupon and ericka saved a lot of money!.\"], \"cause_idx\": [1, 2], \"res_idx\": 4},\n",
        "{\"story\": [\"Ian decided to grow his own vegetables in his backyard.\", \"He thought it would save him money.\", \"But he got tired of watering of them.\", \"It turned out to be a lot of work.\", \"Ian felt like a full time farmer.\"], \"cause_idx\": [3], \"res_idx\": 4},\n",
        "{\"story\": [\"Kyle had decided to teach his cat how to walk on a leash.\", \"That way he could take it for walks around the city.\", \"He went to the pet store and bought a leash and collar.\", \"The cat did not fight him at all when he put the collar on.\", \"They go for walks twice a day with no problems.\"], \"cause_idx\": [3], \"res_idx\": 4},\n",
        "{\"story\": [\"Oliver was visiting the dog pound with his family.\", \"They were looking for a new puppy.\", \"Then, oliver spotted an older, tired looking dog.\", \"He was a stray who had been injured.\", \"Oliver decided that he wanted to give that dog a home.\"], \"cause_idx\": [2], \"res_idx\": 4},\n",
        "{\"story\": [\"Sarah got into an accident on new year's eve.\", \"She slid on the highway and hit the car next to her.\", \"They both slid into the guardrail.\", \"No one was hurt.\", \"Both cars were totalled.\"], \"cause_idx\": [2], \"res_idx\": 4},\n",
        "{\"story\": [\"Cory had his first track meet today.\", \"Cory had only been on the track team for a few weeks.\", \"He ran laps every day with his friends.\", \"He still wasn't sure how his performance would compare.\", \"Cory did much better than he expected.\"], \"cause_idx\": [1, 3], \"res_idx\": 4},\n",
        "{\"story\": [\"Dave had to take a train to his grandma's house.\", \"This was his first time.\", \"He kept asking people for help and directions.\", \"He made everything on time.\", \"He met up with his grandma.\"], \"cause_idx\": [3], \"res_idx\": 4},\n",
        "{\"story\": [\"We had my oldest nephew sleep over at our house.\", \"He packed up all his clothes, and brought some books.\", \"We went swimming in the pool and then got ice cream.\", \"After dinner we made a fire and had s'mores.\", \"It was a great time, i hope we can do it again.\"], \"cause_idx\": [0, 2, 3], \"res_idx\": 4},\n",
        "{\"story\": [\"Stephen woke up to a cold morning.\", \"He walked outside.\", \"There was ice on the ground.\", \"A old woman was about to step on the ice.\", \"Stephen saved her from the fall.\"], \"cause_idx\": [2, 3], \"res_idx\": 4},\n",
        "{\"story\": [\"Ann loved to build snowmen.\", \"She went outside in the snow.\", \"Than she began to roll it in balls.\", \"Soon she had a big snowman.\", \"Ann had the coolest snowman on the block.\"], \"cause_idx\": [3], \"res_idx\": 4},\n",
        "{\"story\": [\"Nana sings a song to fiona.\", \"Fiona smiles at nana.\", \"Fiona claps her hands.\", \"Fiona dances in circles.\", \"Fiona sings a song to nana.\"], \"cause_idx\": [0], \"res_idx\": 4},\n",
        "{\"story\": [\"The man made a date.\", \"He was excited to go.\", \"He got ready for the date.\", \"He went to the meeting spot.\", \"His date never showed up.\"], \"cause_idx\": [0, 3], \"res_idx\": 4},\n",
        "{\"story\": [\"Lucy burned her arm on the oven.\", \"She tried not to cry, but the burn hurt a lot.\", \"Her grandma sprayed a burn spray on the burn.\", \"Lucy put a band-aid on the burn and went to watch tv.\", \"After 10 minutes the burn no longer hurt.\"], \"cause_idx\": [2], \"res_idx\": 4},\n",
        "{\"story\": [\"I went to a baseball game.\", \"There was a loud fan in front of me.\", \"He yelled at every pitch for three innings.\", \"The crowd then yelled at him.\", \"He was very quiet for the rest of the game.\"], \"cause_idx\": [1, 3], \"res_idx\": 4},\n",
        "{\"story\": [\"I was in plays my entire young adult life.\", \"I wanted to become a big star.\", \"I practiced acting all the time.\", \"I was great on stage.\", \"But i never won any awards and gave up my dreams.\"], \"cause_idx\": [1], \"res_idx\": 4},\n",
        "{\"story\": [\"It was finally time to leave for the beach.\", \"I packed up all of my things and put my flip-flops on.\", \"It was a short walk to the beach.\", \"I took my flip-flops off and started walking on the sand.\", \"The feeling of sand between my toes was great.\"], \"cause_idx\": [1, 3], \"res_idx\": 4},\n",
        "{\"story\": [\"Nell had always wanted to go to spain.\", \"As soon as she could afford it she booked her ticket to madrid.\", \"She stayed in madrid for a few days before heading out to explore.\", \"Her explorations led her to walk the camino de santiago.\", \"Two months later she flew back to the united states a happy woman.\"], \"cause_idx\": [1], \"res_idx\": 4},\n",
        "{\"story\": [\"Rachel was studying to become baptized.\", \"She was nearing the end of her lessons.\", \"Her teacher asked her if she was sure that she wanted to do it.\", \"Rachel thought about it.\", \"She had a change of heart and decided not to go through with it.\"], \"cause_idx\": [2], \"res_idx\": 4},\n",
        "{\"story\": [\"Thalia has been invited to play at her friend janice's home.\", \"When thalia arrives there, she is excited to see a trampoline.\", \"Thalia and janice spend the whole afternoon on the trampoline.\", \"Thalia has so much fun that she asks her father if they can get one.\", \"Thalia would love to have a trampoline just like janice has.\"], \"cause_idx\": [2], \"res_idx\": 4},\n",
        "{\"story\": [\"Ashley hated dragon flys a lot.\", \"In fact, she hated anything that was small and flew.\", \"One day, ashley was forced to go outside.\", \"Then, ashley suddenly saw a dragonfly.\", \"At first, she was scared but then, she fought her fears and won.\"], \"cause_idx\": [3], \"res_idx\": 4},\n",
        "{\"story\": [\"Dave wanted to dunk on his basketball hoop.\", \"He got his ladder out and lowered the hoop.\", \"Dave hopped off the ladder and got a ball.\", \"He took a running start and jumped with the ball.\", \"Dave dunked so hard the hoop fell off.\"], \"cause_idx\": [1, 3], \"res_idx\": 4}\n",
        "\n",
        "\n",
        "]\n",
        "\n",
        "processed_data = []\n",
        "for item in data:\n",
        "    concatenated_story = \" \".join(item['story'])\n",
        "    cause_sentences = \", \".join([item['story'][idx] for idx in item['cause_idx'] if idx < len(item['story'])])\n",
        "    result_sentence = item['story'][item['res_idx']] if item['res_idx'] < len(item['story']) else None\n",
        "    processed_data.append({'story': concatenated_story, 'cause': cause_sentences, 'result': result_sentence})\n",
        "\n",
        "df = pd.DataFrame(processed_data)\n",
        "\n",
        "df.to_csv('output_coke.csv', index=False)\n",
        "\n",
        "print(\"CSV file has been created.\")"
      ],
      "metadata": {
        "colab": {
          "base_uri": "https://localhost:8080/"
        },
        "id": "42_bDNpOLq3C",
        "outputId": "40271d6f-e99f-4d36-9e5e-001ed9104f62"
      },
      "execution_count": null,
      "outputs": [
        {
          "output_type": "stream",
          "name": "stdout",
          "text": [
            "CSV file has been created.\n"
          ]
        }
      ]
    }
  ]
}