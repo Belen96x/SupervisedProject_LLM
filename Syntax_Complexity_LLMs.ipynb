{
  "nbformat": 4,
  "nbformat_minor": 0,
  "metadata": {
    "colab": {
      "provenance": []
    },
    "kernelspec": {
      "name": "python3",
      "display_name": "Python 3"
    },
    "language_info": {
      "name": "python"
    }
  },
  "cells": [
    {
      "cell_type": "code",
      "execution_count": 20,
      "metadata": {
        "id": "Tc9hWjVrko9n"
      },
      "outputs": [],
      "source": [
        "import pandas as pd\n",
        "import spacy\n",
        "import matplotlib.pyplot as plt\n",
        "import seaborn as sns"
      ]
    },
    {
      "cell_type": "code",
      "source": [
        "df_emotion = pd.read_csv('/content/drive/MyDrive/Université de Lorraine/First semester/Supervised project/Datasets/Datasets_syntax/Emotion.csv')\n",
        "df_FOB_NLC = pd.read_csv('/content/drive/MyDrive/Université de Lorraine/First semester/Supervised project/Datasets/Datasets_syntax/FOB_NLC.csv')\n",
        "df_F_SB = pd.read_csv('/content/drive/MyDrive/Université de Lorraine/First semester/Supervised project/Datasets/Datasets_syntax/F_SB.csv')\n",
        "df_intention = pd.read_csv('/content/drive/MyDrive/Université de Lorraine/First semester/Supervised project/Datasets/Datasets_syntax/Intention.csv')\n",
        "df_intention_desire = pd.read_csv('/content/drive/MyDrive/Université de Lorraine/First semester/Supervised project/Datasets/Datasets_syntax/Intention_desire.csv')"
      ],
      "metadata": {
        "id": "UJerxq-nT7HW"
      },
      "execution_count": 11,
      "outputs": []
    },
    {
      "cell_type": "code",
      "source": [
        "df = pd.concat([df_FOB_NLC, df_F_SB, df_intention, df_intention_desire, df_emotion], ignore_index = True)"
      ],
      "metadata": {
        "id": "zX6POfCImVut"
      },
      "execution_count": 12,
      "outputs": []
    },
    {
      "cell_type": "code",
      "source": [
        "df.shape[0]"
      ],
      "metadata": {
        "colab": {
          "base_uri": "https://localhost:8080/"
        },
        "id": "-Xh-b9DVMjy5",
        "outputId": "f50ee7a2-7ab4-4dcd-b53a-058bbe1d49fc"
      },
      "execution_count": 13,
      "outputs": [
        {
          "output_type": "execute_result",
          "data": {
            "text/plain": [
              "250"
            ]
          },
          "metadata": {},
          "execution_count": 13
        }
      ]
    },
    {
      "cell_type": "code",
      "source": [
        "nlp = spacy.load('en_core_web_sm')\n",
        "\n",
        "def calculate_average_tree_depth(text):\n",
        "    \"\"\"\n",
        "    Calculate the average depth of the syntactic trees of all sentences in a given text.\n",
        "    \"\"\"\n",
        "    doc = nlp(text)\n",
        "    depths = []\n",
        "\n",
        "    for sent in doc.sents:\n",
        "        def node_depth(node):\n",
        "            if not list(node.children):\n",
        "                return 0\n",
        "            else:\n",
        "                return 1 + max(node_depth(child) for child in node.children)\n",
        "\n",
        "        root = sent.root\n",
        "        depth = node_depth(root)\n",
        "        depths.append(depth)\n",
        "\n",
        "    if depths:\n",
        "        return sum(depths) / len(depths)\n",
        "    else:\n",
        "        return 0\n",
        "\n",
        "def add_syntax_complexity_columns(df):\n",
        "    \"\"\"\n",
        "    Add columns for the average syntactic complexity of the 'Story' and 'Question / Hypothesis' text.\n",
        "\n",
        "    Parameters:\n",
        "    - df (DataFrame): The DataFrame to be processed.\n",
        "\n",
        "    Returns:\n",
        "    - DataFrame: The modified DataFrame with new columns.\n",
        "    \"\"\"\n",
        "    df['Avg_syntax_complex_story'] = df['Story'].apply(calculate_average_tree_depth)\n",
        "    df['Avg_syntax_complex_question'] = df['Question_Hypothesis'].apply(calculate_average_tree_depth)\n",
        "\n",
        "    return df"
      ],
      "metadata": {
        "id": "pAVdarKKqCj7"
      },
      "execution_count": 16,
      "outputs": []
    },
    {
      "cell_type": "code",
      "source": [
        "df_syntax = add_syntax_complexity_columns(df)"
      ],
      "metadata": {
        "id": "mGcDlWtFqN95"
      },
      "execution_count": 45,
      "outputs": []
    },
    {
      "cell_type": "code",
      "source": [
        "df_syntax.to_csv('Dataset_complete_syntaxData.csv')"
      ],
      "metadata": {
        "id": "lZT0MNY-rSMY"
      },
      "execution_count": 19,
      "outputs": []
    },
    {
      "cell_type": "markdown",
      "source": [],
      "metadata": {
        "id": "K0NLDnvteWlL"
      }
    },
    {
      "cell_type": "code",
      "source": [
        "df.rename(columns={'accuracy': 'Correct_Answer'}, inplace=True)\n",
        "\n",
        "print(df.columns)\n",
        "\n",
        "subset = df[df['ATOMS_state'] == 'Intention/Desire']\n",
        "\n",
        "print(subset.head())\n",
        "\n",
        "fig, axes = plt.subplots(nrows=1, ncols=2, figsize=(15, 5))\n",
        "\n",
        "sns.histplot(data=subset, x='Avg_syntax_complex_story', hue='Correct_Answer', multiple='stack', bins=10, palette='coolwarm', ax=axes[0])\n",
        "axes[0].set_title('Story Syntax Complexity for Intention/Desire')\n",
        "axes[0].set_xlabel('Story Syntax Complexity')\n",
        "axes[0].set_ylabel('Number of Responses')\n",
        "\n",
        "sns.histplot(data=subset, x='Avg_syntax_complex_question', hue='Correct_Answer', multiple='stack', bins=10, palette='coolwarm', ax=axes[1])\n",
        "axes[1].set_title('Question Syntax Complexity for Intention/Desire')\n",
        "axes[1].set_xlabel('Question Syntax Complexity')\n",
        "axes[1].set_ylabel('Number of Responses')\n",
        "\n",
        "plt.tight_layout()\n",
        "plt.savefig('complexity_vs_accuracy_intention_desire.jpg')\n",
        "plt.show()"
      ],
      "metadata": {
        "colab": {
          "base_uri": "https://localhost:8080/",
          "height": 1000
        },
        "id": "kOXbRZd7eW8A",
        "outputId": "3b0b09a7-f2fe-4fe5-f527-10c82edda272"
      },
      "execution_count": 48,
      "outputs": [
        {
          "output_type": "stream",
          "name": "stdout",
          "text": [
            "Index(['Task', 'ATOMS_state', 'Story', 'Question_Hypothesis', 'Answer',\n",
            "       'Model_Output', 'Normalized_Answer', 'Normalized_Model_Output',\n",
            "       'Cosine_Similarity', 'Correct_Answer', 'Predicted',\n",
            "       'Avg_syntax_complex_story', 'Avg_syntax_complex_question',\n",
            "       'Story_Complexity_Level', 'Question_Complexity_Level'],\n",
            "      dtype='object')\n",
            "      Task       ATOMS_state  \\\n",
            "150  Infer  Intention/Desire   \n",
            "151  Infer  Intention/Desire   \n",
            "152  Infer  Intention/Desire   \n",
            "153  Infer  Intention/Desire   \n",
            "154  Infer  Intention/Desire   \n",
            "\n",
            "                                                 Story  \\\n",
            "150  You are going to read a fragment of a conversa...   \n",
            "151  You are going to read a fragment of a conversa...   \n",
            "152  You are going to read a fragment of a conversa...   \n",
            "153  You are going to read a fragment of a conversa...   \n",
            "154  You are going to read a fragment of a conversa...   \n",
            "\n",
            "                                   Question_Hypothesis Answer Model_Output  \\\n",
            "150                                Speaker B is Archie    Yes           No   \n",
            "151              Speaker B likes \"Dancing with wolves\"    Yes          Yes   \n",
            "152  Speaker A and Speaker B have seen \"Sleeping wi...     No           No   \n",
            "153  Speaker B wants Speaker A to see \"Silence of t...    Yes           No   \n",
            "154  Speaker B wants Speaker A to see \"Sleeping wit...    Yes          Yes   \n",
            "\n",
            "    Normalized_Answer Normalized_Model_Output  Cosine_Similarity  \\\n",
            "150               yes                      no                0.0   \n",
            "151               yes                     yes                1.0   \n",
            "152                no                      no                1.0   \n",
            "153               yes                      no                0.0   \n",
            "154               yes                     yes                1.0   \n",
            "\n",
            "     Correct_Answer  Predicted  Avg_syntax_complex_story  \\\n",
            "150               0        0.0                  5.750000   \n",
            "151               1        1.0                  5.285714   \n",
            "152               1        1.0                  5.400000   \n",
            "153               0        0.0                  5.800000   \n",
            "154               1        1.0                  3.428571   \n",
            "\n",
            "     Avg_syntax_complex_question Story_Complexity_Level  \\\n",
            "150                          2.0                  Media   \n",
            "151                          3.0                  Media   \n",
            "152                          4.0                  Media   \n",
            "153                          5.0                  Media   \n",
            "154                          5.0                   Baja   \n",
            "\n",
            "    Question_Complexity_Level  \n",
            "150                  Muy Baja  \n",
            "151                      Baja  \n",
            "152                      Baja  \n",
            "153                     Media  \n",
            "154                     Media  \n"
          ]
        },
        {
          "output_type": "display_data",
          "data": {
            "text/plain": [
              "<Figure size 1500x500 with 2 Axes>"
            ],
            "image/png": "[encoded data removed]"
          },
          "metadata": {}
        }
      ]
    },
    {
      "cell_type": "code",
      "source": [
        "accuracy_percentage = df['accuracy'].mean() * 100\n",
        "print(accuracy_percentage)"
      ],
      "metadata": {
        "colab": {
          "base_uri": "https://localhost:8080/"
        },
        "id": "21PNS3aXi1Ne",
        "outputId": "39b9bd44-a877-4eee-a013-8afee43d582a"
      },
      "execution_count": 35,
      "outputs": [
        {
          "output_type": "stream",
          "name": "stdout",
          "text": [
            "48.4\n"
          ]
        }
      ]
    },
    {
      "cell_type": "code",
      "source": [
        "\n",
        "accuracy_by_state = df.groupby('ATOMS_state')['accuracy'].mean() * 100\n",
        "\n",
        "print('Accuracy by ATOMS_state:')\n",
        "print(accuracy_by_state)\n",
        "\n",
        "accuracy_by_state_df = accuracy_by_state.reset_index()\n",
        "accuracy_by_state_df.columns = ['ATOMS_state', 'Accuracy_Percentage']\n",
        "print('\\nAccuracy by ATOMS_state (Detailed):')\n",
        "print(accuracy_by_state_df)"
      ],
      "metadata": {
        "colab": {
          "base_uri": "https://localhost:8080/"
        },
        "id": "mGwWxRfxjR11",
        "outputId": "7391c190-3265-40ad-90bd-1ab2c516d293"
      },
      "execution_count": 36,
      "outputs": [
        {
          "output_type": "stream",
          "name": "stdout",
          "text": [
            "Accuracy by ATOMS_state:\n",
            "ATOMS_state\n",
            "Emotion                                     52.0\n",
            "First Order Belief / NLC                    64.0\n",
            "First Order Belief / Second Order Belief    32.0\n",
            "Intention                                   34.0\n",
            "Intention/Desire                            60.0\n",
            "Name: accuracy, dtype: float64\n",
            "\n",
            "Accuracy by ATOMS_state (Detailed):\n",
            "                                ATOMS_state  Accuracy_Percentage\n",
            "0                                   Emotion                 52.0\n",
            "1                  First Order Belief / NLC                 64.0\n",
            "2  First Order Belief / Second Order Belief                 32.0\n",
            "3                                 Intention                 34.0\n",
            "4                          Intention/Desire                 60.0\n"
          ]
        }
      ]
    }
  ]
}